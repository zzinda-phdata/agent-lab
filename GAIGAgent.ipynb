{
 "cells": [
  {
   "cell_type": "code",
   "execution_count": null,
   "metadata": {},
   "outputs": [],
   "source": [
    "import getpass\n",
    "import os\n",
    "import math\n",
    "import numexpr\n",
    "from langchain_tavily import TavilySearch\n",
    "from langchain_openai import ChatOpenAI, AzureChatOpenAI\n",
    "from langgraph.graph import MessagesState, START, StateGraph\n",
    "from langgraph.prebuilt import tools_condition, ToolNode\n",
    "from langchain_core.messages import AIMessage, HumanMessage, SystemMessage\n",
    "from langchain_core.runnables.config import RunnableConfig\n"
   ]
  },
  {
   "cell_type": "markdown",
   "metadata": {},
   "source": [
    "In the above cell we've imported the necessary packages. We'll explain the various libraries and functions as they become relevant later on, but first we'll start by defining a tool. We can define a tool the same way we define a standard python function, it just needs to take a string, or multiple strings as an input, and also return a string. Since we learned LLMs can be bad at math, let's start by creating a calculator tool. "
   ]
  },
  {
   "cell_type": "code",
   "execution_count": 2,
   "metadata": {},
   "outputs": [],
   "source": [
    "def calculator(expression: str) -> str:\n",
    "    \"\"\"Calculate expression using Python's numexpr library.\n",
    "\n",
    "    Expression should be a single line mathematical expression\n",
    "    that solves the problem.\n",
    "\n",
    "    Examples:\n",
    "        \"37593 * 67\" for \"37593 times 67\"\n",
    "        \"37593**(1/5)\" for \"37593^(1/5)\"\n",
    "    \"\"\"\n",
    "    local_dict = {\"pi\": math.pi, \"e\": math.e}\n",
    "    return str(\n",
    "        numexpr.evaluate(\n",
    "            expression.strip(),\n",
    "            global_dict={},  # restrict access to globals\n",
    "            local_dict=local_dict,  # add common mathematical functions\n",
    "        )\n",
    "    )\n"
   ]
  },
  {
   "cell_type": "markdown",
   "metadata": {},
   "source": [
    "In order for our function to work as a tool with the LangGraph framework, it is vital we have type hints and and doc-string explaining what the function does. An LLM would have no idea how to interact with this same tool if we wrote our code like this:\n",
    "\n",
    "\n",
    "```python\n",
    "def calculator(expression):\n",
    "    local_dict = {\"pi\": math.pi, \"e\": math.e}\n",
    "    return str(\n",
    "        numexpr.evaluate(\n",
    "            expression.strip(),\n",
    "            global_dict={},  # restrict access to globals\n",
    "            local_dict=local_dict,  # add common mathematical functions\n",
    "        )\n",
    "    )\n",
    "```\n",
    "\n",
    "If you have a strong desire to learn more about the `numexpr` package being used, you can find the github repo for it [here](https://github.com/pydata/numexpr), but all you really need to understand is that it's a faster `numpy`. \n",
    "\n",
    "Let's test out our calculator below."
   ]
  },
  {
   "cell_type": "code",
   "execution_count": 3,
   "metadata": {},
   "outputs": [
    {
     "data": {
      "text/plain": [
       "'0.69'"
      ]
     },
     "execution_count": 3,
     "metadata": {},
     "output_type": "execute_result"
    }
   ],
   "source": [
    "calculator('3.8-3.11')"
   ]
  },
  {
   "cell_type": "code",
   "execution_count": 4,
   "metadata": {},
   "outputs": [
    {
     "data": {
      "text/plain": [
       "'57.60494067281279'"
      ]
     },
     "execution_count": 4,
     "metadata": {},
     "output_type": "execute_result"
    }
   ],
   "source": [
    "calculator('(2021**(1/2)) + (2024**(1/3))')"
   ]
  },
  {
   "cell_type": "markdown",
   "metadata": {},
   "source": [
    "Many tools are pre-built for us by the open-source community and don't require coding something from scratch. Next, we're going to take a look at a pre-built websearch tool. In order for it to work, you need to have an API key in your environmental variables. Hopefully you set that up ahead of time. Run the cell below and copy and paste it in. "
   ]
  },
  {
   "cell_type": "code",
   "execution_count": 10,
   "metadata": {},
   "outputs": [],
   "source": [
    "if os.environ.get(\"TAVILY_API_KEY\") is None:\n",
    "    os.environ[\"TAVILY_API_KEY\"] = getpass.getpass(\"Tavily API Key: \")\n"
   ]
  },
  {
   "cell_type": "markdown",
   "metadata": {},
   "source": [
    "You can play around with it in the cell below."
   ]
  },
  {
   "cell_type": "code",
   "execution_count": 11,
   "metadata": {},
   "outputs": [
    {
     "data": {
      "text/plain": [
       "{'query': 'skyline chili',\n",
       " 'follow_up_questions': None,\n",
       " 'answer': None,\n",
       " 'images': [],\n",
       " 'results': [{'title': 'Skyline Chili - Wikipedia',\n",
       "   'url': 'https://en.wikipedia.org/wiki/Skyline_Chili',\n",
       "   'content': 'Skyline Chili is a chain of casual dining restaurants founded in 1949 by Greek immigrant Nicholas Lambrinides. It is known for its signature dishes of cheese coneys and 3-ways, and its secret spice blend of Cincinnati chili.',\n",
       "   'score': 0.9521889,\n",
       "   'raw_content': None},\n",
       "  {'title': 'Skyline Chili',\n",
       "   'url': 'https://locations.skylinechili.com/skyline-chili-a0254bd3f93f',\n",
       "   'content': 'Skyline Chili is famous for its secret recipe chili, Cheese Coneys and Ways. Find locations, menu, hours and online ordering for this fast, friendly and delicious dine-in and drive-thru service.',\n",
       "   'score': 0.8934678,\n",
       "   'raw_content': None},\n",
       "  {'title': 'SKYLINE CHILI - Updated May 2025 - 78 Photos & 72 Reviews - Yelp',\n",
       "   'url': 'https://www.yelp.com/biz/skyline-chili-columbus-12',\n",
       "   'content': 'Specialties: Skyline Chili restaurant chain. Famous for secret recipe Cincinnati-style chili & fast, friendly dine-in & drive-thru service. Serving Cheese Coneys, Ways, Greek Salad & more great-tasting food since 1949. Locations in OH, KY, IN & FL. Grocery products available at on Amazon and at select grocery stores throughout the US.',\n",
       "   'score': 0.854509,\n",
       "   'raw_content': None},\n",
       "  {'title': \"Skyline Chili Just Debuted a New Menu Item, and We Can't Wait to Try It\",\n",
       "   'url': 'https://www.citybeat.com/food-drink/skyline-chili-just-debuted-a-new-menu-item-and-we-cant-wait-to-try-it-19579167',\n",
       "   'content': \"Skyline Chili is kicking the summer off with a new menu item, and it's a marriage of two icons from the Cincinnati chili chain. For a limited time, Skyline diners can enjoy a mashup of the\",\n",
       "   'score': 0.82994765,\n",
       "   'raw_content': None},\n",
       "  {'title': 'Skyline Chili - Home',\n",
       "   'url': 'https://skylinechili.com/',\n",
       "   'content': 'Skyline Chili - Home Google Analytics sets this cookie to store and count page views. Crispy tortilla chips with a layer of warm queso blanco, Skyline Chili, our signature freshly-shredded cheddar cheese, and topped with jalapeños. Take it even further with our extreme Habanero Cheese and Skyline hot sauce - for a limited time at participating locations only. Kit includes Chili, Hot Dogs, Buns, Onions, Mustard, Shredded Cheddar Cheese, Oyster Crackers. The Skyline 3-Way starts with a bed of steaming spaghetti, topped with our secret-recipe chili and piled high with shredded cheddar cheese. The Skyline Cheese Coney layers a specialty hot dog, mustard, secret-recipe chili, diced onions, and shredded cheddar cheese onto a soft steamed bun. ### Skyline Cheddar Cheese 12 oz.',\n",
       "   'score': 0.8245895,\n",
       "   'raw_content': None}],\n",
       " 'response_time': 3.02}"
      ]
     },
     "execution_count": 11,
     "metadata": {},
     "output_type": "execute_result"
    }
   ],
   "source": [
    "TavilySearch(max_results=5).invoke('skyline chili')"
   ]
  },
  {
   "cell_type": "markdown",
   "metadata": {},
   "source": [
    "Zac is going to provide you an endpoint url and a key to an Azure OpenAI GPT-4o-mini deployment. This resource will be torn down at the completion of today's session. It is **not** deployed in a GAIG account, so please do not use it for any GAIG things in the next 45 minutes."
   ]
  },
  {
   "cell_type": "code",
   "execution_count": 5,
   "metadata": {},
   "outputs": [],
   "source": [
    "if \"AZURE_OPENAI_API_KEY\" not in os.environ:\n",
    "    os.environ[\"AZURE_OPENAI_API_KEY\"] = getpass.getpass(\n",
    "        \"Enter your AzureOpenAI API key: \"\n",
    "    )\n",
    "os.environ[\"AZURE_OPENAI_ENDPOINT\"] = \"https://gaig-gpt.openai.azure.com/\""
   ]
  },
  {
   "cell_type": "markdown",
   "metadata": {},
   "source": [
    "Below we'll instantiatee our model. Changing the deployment will not do anything as there is currently only one model deployed at the endpoint. "
   ]
  },
  {
   "cell_type": "code",
   "execution_count": 6,
   "metadata": {},
   "outputs": [],
   "source": [
    "llm = AzureChatOpenAI(\n",
    "    azure_deployment=\"gpt-4o-mini\",\n",
    "    api_version=\"2025-01-01-preview\",\n",
    "    temperature=0,\n",
    "    max_tokens=8192,\n",
    "    timeout=30,\n",
    "    max_retries=2,\n",
    ")"
   ]
  },
  {
   "cell_type": "markdown",
   "metadata": {},
   "source": [
    "Do a quick test to validate your connectivity. "
   ]
  },
  {
   "cell_type": "code",
   "execution_count": 9,
   "metadata": {},
   "outputs": [
    {
     "name": "stdout",
     "output_type": "stream",
     "text": [
      "Subject: Feedback on Morning Stand-Up\n",
      "\n",
      "Dear Team,\n",
      "\n",
      "I wanted to take a moment to share my thoughts regarding our recent morning stand-up sessions. While I appreciate the diverse perspectives that each team member brings to the table, I find that some of the commentary can be a bit distracting. It may be beneficial for us to streamline our discussions to ensure we maintain focus and drive towards our objectives more effectively.\n",
      "\n",
      "Looking forward to collaborating on enhancing our meeting dynamics.\n",
      "\n",
      "Best regards,  \n",
      "[Your Name]\n"
     ]
    }
   ],
   "source": [
    "messages = [\n",
    "    (\n",
    "        \"system\",\n",
    "        \"You are a helpful assistant that translates plain English into white-collar corporate speak that uses phrases like 'synergy' and 'stack hands' and is appropriate for email. Translate the user sentence.\",\n",
    "    ),\n",
    "    (\"human\", \"Bill is an absolute clown. Listening to him on the morning stand-up makes me want to bash my face into my keyboard.\"),\n",
    "]\n",
    "ai_msg = llm.invoke(messages)\n",
    "print(ai_msg.content)"
   ]
  },
  {
   "cell_type": "markdown",
   "metadata": {},
   "source": [
    "Now we'll begin assembling our agent. The first thing we'll need to do is \"bind\" the tools to our LLM. "
   ]
  },
  {
   "cell_type": "code",
   "execution_count": 17,
   "metadata": {},
   "outputs": [],
   "source": [
    "tavily_search = TavilySearch()\n",
    "tools =[tavily_search, calculator]\n",
    "llm_with_tools = llm.bind_tools(tools)"
   ]
  },
  {
   "cell_type": "markdown",
   "metadata": {},
   "source": [
    "In layman's terms, binding the tools allows the LLM to know what tools it has access to, what they do, and what arguments they take. It gets this from the doc-string and type hints, which we mentioned earlier as being important. \n",
    "\n",
    "A full description that dives through all the layers of abstraction, can be found at this stackoverflow link. \n",
    "\n",
    "https://stackoverflow.com/questions/79375332/how-does-llm-bind-tools-work-in-langchain\n",
    "\n",
    "Now let's take our LLM, with tools bound to it, and make it an \"assistant\". "
   ]
  },
  {
   "cell_type": "code",
   "execution_count": 13,
   "metadata": {},
   "outputs": [],
   "source": [
    "\n",
    "sys_msg = SystemMessage(content=\"You are a helpful assistant tasked with helping a user search for facts and perform arithmetic. Address the user as 'sir underwriter`. Keep it gangster.\")\n",
    "def assistant(state: MessagesState):\n",
    "   return {\"messages\": [llm_with_tools.invoke([sys_msg] + state[\"messages\"])]}"
   ]
  },
  {
   "cell_type": "markdown",
   "metadata": {},
   "source": [
    "Let's talk a little bit about what is going on with the 'state' in the above code. It's important to remember that language models are completely stateless, meaning they don't remember anything. This might seem odd, since when you converse with Chat-GPT it certainly seems like it remembers what it has previously said to you. \n",
    "\n",
    "The reality is that each interaction with the model, the entirety of your prior conversation is passed in the prompt. So if you tell Chat-GPT to go by a different name, and later it \"remembers\" it's new name, it is actually because the prompt passed to it looked something like this. \n",
    "\n",
    "```python\n",
    "messages = \n",
    "[\n",
    "    {\"role\":\"system\",\n",
    "    \"content\":\"You are a helpful assistant named ChatGPT.\"},\n",
    "    {\"role\":\"user\",\n",
    "    \"content\":\"Today I want you to call yourself Mr. Chat.\"},\n",
    "    {\"role\":\"assistant\",\n",
    "    \"content\":\"Okay I will go by Mr. Chat.\"},\n",
    "    {\"role\":\"user\",\n",
    "    \"content\":\"What is your name?\"}\n",
    "]\n",
    "```\n",
    "\n",
    "In a ReAct Agent our prompt would look something like below. It is expecting 4 inputs to be injected. 'Tools' contains the name of each tool, what the doc-string says it does, and the arguments it takes. 'Tool names' is similar, but without all the description and literally just the names. 'Input' is the question we're going to ask our agent. 'Agent Scratchpad' will be updated with each action the agent takes. It works similarly to the \"memory\" in the chat above and will allow the agent to see thing it has previously done, like calling tools, and what the inputs and outputs of those steps were. \n",
    "\n",
    "```python\n",
    "\"\"\"\n",
    "Answer the following questions as best you can. You have access to the \n",
    "following tools:\n",
    "\n",
    "{tools}\n",
    "\n",
    "Use the following format:\n",
    "Question: the input question you must answer\n",
    "Thought: you should always think about what to do\n",
    "Action: the action to take, should be one of [{tool_names}]\n",
    "Action Input: the input to the action\n",
    "Observation: the result of the action\n",
    "\n",
    "... (this Thought/Action/Action Input/Observation can repeat N times)\n",
    "\n",
    "Thought: I now know the final answer\n",
    "Final Answer: the final answer to the original input question\n",
    "\n",
    "Begin!\n",
    "\n",
    "Question: {input}\n",
    "\n",
    "Thought:{agent_scratchpad}\n",
    "\"\"\"\n",
    "```\n",
    "\n",
    "MessagesState is a structure provided by LangGraph to keep track of the ongoing conversation messages. It will accumulate our user and assistant messages so we can pass the full dialogue to the model each turn.\n",
    "\n",
    "The idea behind LangGraph as a framework, is that instead of writing a prompt like what we see above, which can easily go off the rails, it uses a graph to constrain an agent into a series of steps with pre-defined transitions. Let's start to assemble our tools and assistant into a graph representation. "
   ]
  },
  {
   "cell_type": "code",
   "execution_count": 15,
   "metadata": {},
   "outputs": [
    {
     "data": {
      "image/png": "[encoded data removed]",
      "text/plain": [
       "<langgraph.graph.state.CompiledStateGraph object at 0x14ded45f0>"
      ]
     },
     "execution_count": 15,
     "metadata": {},
     "output_type": "execute_result"
    }
   ],
   "source": [
    "# Graph\n",
    "builder = StateGraph(MessagesState)\n",
    "\n",
    "# Define nodes: these do the work\n",
    "builder.add_node(\"assistant\", assistant)\n",
    "\n",
    "# Define edges: these determine the control flow\n",
    "builder.add_edge(START, \"assistant\")\n",
    "\n",
    "react_graph = builder.compile()\n",
    "react_graph\n"
   ]
  },
  {
   "cell_type": "markdown",
   "metadata": {},
   "source": [
    "The above gets us going. We know every time we use the agent we need to start by passing a question to our assistant, but we're missing our tools."
   ]
  },
  {
   "cell_type": "code",
   "execution_count": null,
   "metadata": {},
   "outputs": [
    {
     "name": "stderr",
     "output_type": "stream",
     "text": [
      "Adding a node to a graph that has already been compiled. This will not be reflected in the compiled graph.\n"
     ]
    },
    {
     "data": {
      "image/png": "[encoded data removed]",
      "text/plain": [
       "<langgraph.graph.state.CompiledStateGraph object at 0x14cbfdee0>"
      ]
     },
     "execution_count": 18,
     "metadata": {},
     "output_type": "execute_result"
    }
   ],
   "source": [
    "builder.add_node(\"tools\", ToolNode(tools))\n",
    "\n",
    "react_graph = builder.compile()\n",
    "react_graph"
   ]
  },
  {
   "cell_type": "markdown",
   "metadata": {},
   "source": [
    "Our tools hanging out by themselves completely disconnected doesn't do us much good. "
   ]
  },
  {
   "cell_type": "code",
   "execution_count": 19,
   "metadata": {},
   "outputs": [
    {
     "name": "stderr",
     "output_type": "stream",
     "text": [
      "Adding an edge to a graph that has already been compiled. This will not be reflected in the compiled graph.\n"
     ]
    },
    {
     "data": {
      "image/png": "[encoded data removed]",
      "text/plain": [
       "<langgraph.graph.state.CompiledStateGraph object at 0x14f57c860>"
      ]
     },
     "execution_count": 19,
     "metadata": {},
     "output_type": "execute_result"
    }
   ],
   "source": [
    "builder.add_conditional_edges(\n",
    "    \"assistant\",\n",
    "    # If the latest message (result) from assistant is a tool call -> tools_condition routes to tools\n",
    "    # If the latest message (result) from assistant is a not a tool call -> tools_condition routes to END\n",
    "    tools_condition,\n",
    ")\n",
    "\n",
    "react_graph = builder.compile()\n",
    "react_graph\n"
   ]
  },
  {
   "cell_type": "markdown",
   "metadata": {},
   "source": [
    "This is closer. We go from `__start__` to `assistant` then conditionally go to `tools` or `__end__` as indicated by the dashed line, but notice how are `tools` aren't passing anything back to the `assistant`? This is not conditional, it should happen each time a tool is called. "
   ]
  },
  {
   "cell_type": "code",
   "execution_count": 20,
   "metadata": {},
   "outputs": [
    {
     "name": "stderr",
     "output_type": "stream",
     "text": [
      "Adding an edge to a graph that has already been compiled. This will not be reflected in the compiled graph.\n"
     ]
    },
    {
     "data": {
      "image/png": "[encoded data removed]",
      "text/plain": [
       "<langgraph.graph.state.CompiledStateGraph object at 0x14f574fb0>"
      ]
     },
     "execution_count": 20,
     "metadata": {},
     "output_type": "execute_result"
    }
   ],
   "source": [
    "builder.add_edge(\"tools\", \"assistant\")\n",
    "\n",
    "react_graph = builder.compile()\n",
    "react_graph"
   ]
  },
  {
   "cell_type": "markdown",
   "metadata": {},
   "source": [
    "That looks better. Tools and assistants does form a loop though. When you start to play around with the agent below, you'll see that it will try to correct itself when it incorrectly uses a tool. It can usually self-refine it's errors within a couple iterations, but let's not even risk falling into an infinite loop. Below I've added one final bit of code to set a recursion limit. Feel free to change the content of the human message and play around with your agent. "
   ]
  },
  {
   "cell_type": "code",
   "execution_count": null,
   "metadata": {},
   "outputs": [
    {
     "name": "stdout",
     "output_type": "stream",
     "text": [
      "================================\u001b[1m Human Message \u001b[0m=================================\n",
      "\n",
      "what is the square root of the year victor adewopo finished his masters degree at the university of cincinnati plus the cube root of the year Nasser Mooman appeared on an AI podcast for CDO Magazine\n",
      "==================================\u001b[1m Ai Message \u001b[0m==================================\n",
      "Tool Calls:\n",
      "  tavily_search (call_F0NKimDz1nSu0f8hB2Qgh4jz)\n",
      " Call ID: call_F0NKimDz1nSu0f8hB2Qgh4jz\n",
      "  Args:\n",
      "    query: Victor Adewopo masters degree University of Cincinnati year\n",
      "    search_depth: basic\n",
      "  tavily_search (call_UHxMRLoRic5JAKykPlBk3HzO)\n",
      " Call ID: call_UHxMRLoRic5JAKykPlBk3HzO\n",
      "  Args:\n",
      "    query: Nasser Mooman AI podcast CDO Magazine year\n",
      "    search_depth: basic\n",
      "=================================\u001b[1m Tool Message \u001b[0m=================================\n",
      "Name: tavily_search\n",
      "\n",
      "{\"query\": \"Victor Adewopo masters degree University of Cincinnati year\", \"follow_up_questions\": null, \"answer\": null, \"images\": [], \"results\": [{\"title\": \"Victor Adewopo | IEEE Xplore Author Details\", \"url\": \"https://ieeexplore.ieee.org/author/37088375263\", \"content\": \"Biography Victor A. Adewopo received the Associate degree in health informatics from Lagos University Teaching Hospital, Lagos, Nigeria, in 2017, the B.Sc. degree in computer science from Lead City University, Nigeria, in 2019, and the M.S. degree in information technology from the University of Cincinnati, OH, USA, in 2021, where he is currently pursuing the Ph.D. degree in information\", \"score\": 0.9014448, \"raw_content\": null}, {\"title\": \"Victor ADEWOPO | Master of Science | University of Cincinnati, Ohio ...\", \"url\": \"https://www.researchgate.net/profile/Victor-Adewopo\", \"content\": \"Victor Adewopo currently works as a Graduate Teaching Assistant at the Department of Information Technology, University of Cincinnati. Victor does research in Artificial Intelligence, Information\", \"score\": 0.6768127, \"raw_content\": null}, {\"title\": \"‪Victor Adewopo‬ - ‪Google Scholar‬\", \"url\": \"https://scholar.google.com/citations?user=g9uqK-oAAAAJ&hl=en\", \"content\": \"Citations per year. Duplicate citations. ... SZ Murat Ozer, Said Varlioglu, Bilal Gonen, Victor Adewopo, Nelly Elsayed. The 2020 International Conference on Computational Science and Computational ... School Of Information Technology, university of Cincinnati IT Expo,\", \"score\": 0.42763633, \"raw_content\": null}, {\"title\": \"Victor Adewopo, Ph.D. - Great American Insurance Group - LinkedIn\", \"url\": \"https://www.linkedin.com/in/adewopo-victor\", \"content\": \"· Experience: Great American Insurance Group · Education: University of Cincinnati · Location: Cincinnati · 500+ connections on LinkedIn. View Victor Adewopo, Ph.D.'s profile on LinkedIn, a\", \"score\": 0.37367067, \"raw_content\": null}, {\"title\": \"Victor Adewopo (0000-0002-1700-5241) - ORCID\", \"url\": \"https://orcid.org/0000-0002-1700-5241\", \"content\": \"Victor Adewopo University College Hospital: Ibadan, Oyo, NG 2012-08-15 to 2014-04-14 | Student (Health Informatics)\", \"score\": 0.34145126, \"raw_content\": null}], \"response_time\": 1.32}\n",
      "=================================\u001b[1m Tool Message \u001b[0m=================================\n",
      "Name: tavily_search\n",
      "\n",
      "{\"query\": \"Nasser Mooman AI podcast CDO Magazine year\", \"follow_up_questions\": null, \"answer\": null, \"images\": [], \"results\": [{\"title\": \"Every Single AI Model Must Have a Human in the Loop - YouTube\", \"url\": \"https://www.youtube.com/watch?v=rnsYh7X74dw\", \"content\": \"Every Single AI Model Must Have a Human in the Loop — Great American Insurance Data Science Manager\\nCDO Magazine\\n391 subscribers\\n2 likes\\n212 views\\n11 Dec 2024\\nNasser Mooman, Data Science Manager at Great American Insurance Group, speaks with Derek Strauss, Chairman, Gavroshe, in a video interview about his background and interests, AI and technology use cases, and AI challenges and ways to mitigate those.\\n\\n- Part 1 of 3\\n\\n\", \"score\": 0.72698855, \"raw_content\": null}, {\"title\": \"CDO Magazine Podcast Series - PODCAST | Every Single AI Model Must Have ...\", \"url\": \"https://rss.com/podcasts/cdo-magazine-podcast-series/1694282/\", \"content\": \"Nasser Mooman, Data Science Manager at Great American Insurance Group, speaks with Derek Strauss, Chairman, Gavroshe, about his background and interests, AI and technology use cases, and AI challenges and ways to mitigate those. ... PODCAST | Every Single AI Model Must Have a Human in the Loop — Great American Insurance Group Data Science\", \"score\": 0.65887916, \"raw_content\": null}, {\"title\": \"Every Single AI Model Must Have a Human in the Loop — Great American ...\", \"url\": \"https://www.cdomagazine.tech/data-privacy/every-single-ai-model-must-have-a-human-in-the-loop-great-american-insurance-group-data-science-manager\", \"content\": \"Nasser Mooman, Data Science Manager at Great American Insurance Group, speaks with Derek Strauss, Chairman, Gavroshe, in a video interview about his background and interests, AI and technology use cases, and AI challenges and ways to mitigate those. ... CDO Magazine appreciates Nasser Mooman for sharing his insights with our global community.\", \"score\": 0.5559422, \"raw_content\": null}, {\"title\": \"PODCAST | Every Single AI Model Must Have a Human in the Loop — Great ...\", \"url\": \"https://www.cdomagazine.tech/podcasts/podcast-every-single-ai-model-must-have-a-human-in-the-loop-great-american-insurance-group-data-science-manager\", \"content\": \"PODCAST | Every Single AI Model Must Have a Human in the Loop — Great American Insurance Group Data Science Manager PODCAST | Every Single AI Model Must Have a Human in the Loop — Great American Insurance Group Data Science Manager PodcastsEvery Single AI Model Must Have a Human in the Loop — Great American Insurance Group Data Science Manager PodcastsPODCAST | AI Is a Tool for Decision-making and Not a Decision-maker — Great American Insurance Group Data Science Manager Podcasts ### AI Can Streamline Agent, Underwriter, and Customer Interactions — Great American Insurance Group Data Science Manager  CDO Magazine Bureau\", \"score\": 0.38338786, \"raw_content\": null}, {\"title\": \"PODCAST | AI Is a Tool for Decision-making and Not a Decision-maker ...\", \"url\": \"https://www.cdomagazine.tech/podcasts/podcast-ai-is-a-tool-for-decision-making-and-not-a-decision-maker-great-american-insurance-group-data-science-manager\", \"content\": \"PODCAST | AI Is a Tool for Decision-making and Not a Decision-maker — Great American Insurance Group Data Science Manager PODCAST | AI Is a Tool for Decision-making and Not a Decision-maker — Great American Insurance Group Data Science Manager PodcastsPODCAST | AI Can Streamline Agent, Underwriter, and Customer Interactions — Great American Insurance Group Data Science Manager PodcastsPODCAST | Every Single AI Model Must Have a Human in the Loop — Great American Insurance Group Data Science Manager Podcasts ### Every Single AI Model Must Have a Human in the Loop — Great American Insurance Group Data Science Manager  CDO Magazine Bureau\", \"score\": 0.38124317, \"raw_content\": null}], \"response_time\": 0.8}\n",
      "==================================\u001b[1m Ai Message \u001b[0m==================================\n",
      "Tool Calls:\n",
      "  calculator (call_dVCsGL3m8qyMakvnKPYkih3t)\n",
      " Call ID: call_dVCsGL3m8qyMakvnKPYkih3t\n",
      "  Args:\n",
      "    expression: sqrt(2021)\n",
      "  calculator (call_dchu28amYIDRVf8vq4Y1OfDD)\n",
      " Call ID: call_dchu28amYIDRVf8vq4Y1OfDD\n",
      "  Args:\n",
      "    expression: cbrt(2024)\n",
      "=================================\u001b[1m Tool Message \u001b[0m=================================\n",
      "Name: calculator\n",
      "\n",
      "44.955533585978046\n",
      "=================================\u001b[1m Tool Message \u001b[0m=================================\n",
      "Name: calculator\n",
      "\n",
      "Error: TypeError(\"'VariableNode' object is not callable\")\n",
      " Please fix your mistakes.\n",
      "==================================\u001b[1m Ai Message \u001b[0m==================================\n",
      "Tool Calls:\n",
      "  calculator (call_cfl5v0RfB7HFnik5aIsYSOmd)\n",
      " Call ID: call_cfl5v0RfB7HFnik5aIsYSOmd\n",
      "  Args:\n",
      "    expression: cbrt(2024)\n",
      "=================================\u001b[1m Tool Message \u001b[0m=================================\n",
      "Name: calculator\n",
      "\n",
      "Error: TypeError(\"'VariableNode' object is not callable\")\n",
      " Please fix your mistakes.\n",
      "==================================\u001b[1m Ai Message \u001b[0m==================================\n",
      "Tool Calls:\n",
      "  calculator (call_KAZKzu8DnXKZwsR1TOHGm0SQ)\n",
      " Call ID: call_KAZKzu8DnXKZwsR1TOHGm0SQ\n",
      "  Args:\n",
      "    expression: 2024**(1/3)\n",
      "=================================\u001b[1m Tool Message \u001b[0m=================================\n",
      "Name: calculator\n",
      "\n",
      "12.649407086834739\n",
      "==================================\u001b[1m Ai Message \u001b[0m==================================\n",
      "\n",
      "Aight, sir underwriter, here's the lowdown:\n",
      "\n",
      "- Victor Adewopo wrapped up his master's degree at the University of Cincinnati in **2021**.\n",
      "- Nasser Mooman hit the scene on an AI podcast for CDO Magazine in **2024**.\n",
      "\n",
      "Now, let's do the math:\n",
      "\n",
      "- The square root of **2021** is about **44.96**.\n",
      "- The cube root of **2024** is about **12.65**.\n",
      "\n",
      "Now, if you wanna add those two bad boys together, we got:\n",
      "\n",
      "**44.96 + 12.65 = 57.61**.\n",
      "\n",
      "So, the final answer is **57.61**. Keep it real!\n"
     ]
    }
   ],
   "source": [
    "config = RunnableConfig(recursion_limit=10)\n",
    "\n",
    "messages = [HumanMessage(content=\"what is the square root of the year victor adewopo finished his masters degree at the university of cincinnati plus the cube root of the year Nasser Mooman appeared on an AI podcast for CDO Magazine\")]\n",
    "messages = react_graph.invoke(input={\"messages\": messages}, config=config)\n",
    "\n",
    "for m in messages['messages']:\n",
    "    m.pretty_print()"
   ]
  }
 ],
 "metadata": {
  "kernelspec": {
   "display_name": "gaig-agent",
   "language": "python",
   "name": "python3"
  },
  "language_info": {
   "codemirror_mode": {
    "name": "ipython",
    "version": 3
   },
   "file_extension": ".py",
   "mimetype": "text/x-python",
   "name": "python",
   "nbconvert_exporter": "python",
   "pygments_lexer": "ipython3",
   "version": "3.12.10"
  }
 },
 "nbformat": 4,
 "nbformat_minor": 2
}
